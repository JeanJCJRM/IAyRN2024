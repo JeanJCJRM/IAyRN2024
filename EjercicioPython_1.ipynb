{
  "nbformat": 4,
  "nbformat_minor": 0,
  "metadata": {
    "colab": {
      "provenance": [],
      "authorship_tag": "ABX9TyMs0PU7qS6pgZJc4dELT3sP",
      "include_colab_link": true
    },
    "kernelspec": {
      "name": "python3",
      "display_name": "Python 3"
    },
    "language_info": {
      "name": "python"
    }
  },
  "cells": [
    {
      "cell_type": "markdown",
      "metadata": {
        "id": "view-in-github",
        "colab_type": "text"
      },
      "source": [
        "<a href=\"https://colab.research.google.com/github/JeanJCJRM/IAyRN2024/blob/main/EjercicioPython_1.ipynb\" target=\"_parent\"><img src=\"https://colab.research.google.com/assets/colab-badge.svg\" alt=\"Open In Colab\"/></a>"
      ]
    },
    {
      "cell_type": "markdown",
      "source": [
        "# ***Actividad 2: Diseño de algoritmos en Python***\n",
        "\n",
        "Nombre: Jean Carlos Javier Rubio Camarillo.\n",
        "Matricula: 2016184\n",
        "Hora: N4"
      ],
      "metadata": {
        "id": "dqKuRvDxHryP"
      }
    },
    {
      "cell_type": "markdown",
      "source": [
        "Ejercicio 1: saludo"
      ],
      "metadata": {
        "id": "Dd-2HecOq-ED"
      }
    },
    {
      "cell_type": "code",
      "source": [
        "nombre = input(\"Ingrese su nombre: \")\n",
        "if nombre not in [\"Ana\", \"Juan\", \"Pedro\"]:\n",
        "    print(f\"Hola, {nombre}!\")"
      ],
      "metadata": {
        "colab": {
          "base_uri": "https://localhost:8080/"
        },
        "id": "xEKT6iFkIHKf",
        "outputId": "938503a7-f3d7-45ec-8432-9b22af68156c"
      },
      "execution_count": null,
      "outputs": [
        {
          "output_type": "stream",
          "name": "stdout",
          "text": [
            "Ingrese su nombre: Jean Carlos\n",
            "Hola, Jean Carlos!\n"
          ]
        }
      ]
    },
    {
      "cell_type": "markdown",
      "source": [
        "**Ejercicio 2:**\n",
        "Lista invertida"
      ],
      "metadata": {
        "id": "DKSWgDx7Ia5Y"
      }
    },
    {
      "cell_type": "code",
      "source": [
        "def invertir_lista():\n",
        "    lista = input(\"Ingrese una lista de elementos separados por espacios: \").split()\n",
        "    lista_invertida = lista[::-1]\n",
        "    print(\"Lista Invertida:\", lista_invertida)\n",
        "\n",
        "invertir_lista()\n"
      ],
      "metadata": {
        "colab": {
          "base_uri": "https://localhost:8080/"
        },
        "id": "AWHzl6yHIeSC",
        "outputId": "7c18ff0b-8107-4408-f72b-2d2f0cc29230"
      },
      "execution_count": null,
      "outputs": [
        {
          "output_type": "stream",
          "name": "stdout",
          "text": [
            "Ingrese una lista de elementos separados por espacios: Pelota Soda Mangas Libreta\n",
            "Lista Invertida: ['Libreta', 'Mangas', 'Soda', 'Pelota']\n"
          ]
        }
      ]
    },
    {
      "cell_type": "markdown",
      "source": [
        "**Ejercicio 3:**\n",
        "Serie de Fibonacci"
      ],
      "metadata": {
        "id": "EuH0n8yAIgER"
      }
    },
    {
      "cell_type": "code",
      "source": [
        "def fibonacci():\n",
        "    n = int(input(\"Ingrese la cantidad de números de la serie Fibonacci a generar: \"))\n",
        "    a, b = 0, 1\n",
        "    for _ in range(n):\n",
        "        print(a, end=\" \")\n",
        "        a, b = b, a + b\n",
        "\n",
        "fibonacci()\n"
      ],
      "metadata": {
        "colab": {
          "base_uri": "https://localhost:8080/"
        },
        "id": "85vPHTS1IqVI",
        "outputId": "f81916c0-9d02-40d2-8ae9-e22fbf231d54"
      },
      "execution_count": null,
      "outputs": [
        {
          "output_type": "stream",
          "name": "stdout",
          "text": [
            "Ingrese la cantidad de números de la serie Fibonacci a generar: 15\n",
            "0 1 1 2 3 5 8 13 21 34 55 89 144 233 377 "
          ]
        }
      ]
    },
    {
      "cell_type": "markdown",
      "source": [
        "**Ejercicio 4:**\n",
        "Juego de adivinar el número"
      ],
      "metadata": {
        "id": "EEUvJkQoIq-1"
      }
    },
    {
      "cell_type": "code",
      "source": [
        "import random\n",
        "\n",
        "numero_objetivo = random.randint(1, 100)\n",
        "\n",
        "while True:\n",
        "    intento = int(input(\"Adivine el número (entre 1 y 100): \"))\n",
        "    if intento == numero_objetivo:\n",
        "        print(\"¡Felicidades Adivinaste!\")\n",
        "        break\n",
        "    elif intento < numero_objetivo:\n",
        "        print(\"El número es mayor. Intenta de nuevo.\")\n",
        "    else:\n",
        "        print(\"El número es menor. Intenta de nuevo.\")\n"
      ],
      "metadata": {
        "colab": {
          "base_uri": "https://localhost:8080/"
        },
        "id": "9gL4HXWGIsqE",
        "outputId": "1d8e4b42-dcfd-46aa-87d9-80922e3a79b5"
      },
      "execution_count": null,
      "outputs": [
        {
          "output_type": "stream",
          "name": "stdout",
          "text": [
            "Adivine el número (entre 1 y 100): 50\n",
            "El número es menor. Intenta de nuevo.\n",
            "Adivine el número (entre 1 y 100): 25\n",
            "El número es menor. Intenta de nuevo.\n",
            "Adivine el número (entre 1 y 100): 15\n",
            "El número es menor. Intenta de nuevo.\n",
            "Adivine el número (entre 1 y 100): 10\n",
            "El número es menor. Intenta de nuevo.\n",
            "Adivine el número (entre 1 y 100): 5\n",
            "El número es mayor. Intenta de nuevo.\n",
            "Adivine el número (entre 1 y 100): 7\n",
            "¡Felicidades Adivinaste!\n"
          ]
        }
      ]
    },
    {
      "cell_type": "markdown",
      "source": [
        "**Ejercicio 5:**\n",
        "Ejercicio de cálculo de números primos en un rango dado"
      ],
      "metadata": {
        "id": "PhYR4INVItys"
      }
    },
    {
      "cell_type": "code",
      "source": [
        "def es_primo(num):\n",
        "    if num < 2:\n",
        "        return False\n",
        "    for i in range(2, int(num**0.5) + 1):\n",
        "        if num % i == 0:\n",
        "            return False\n",
        "    return True\n",
        "\n",
        "rango_inferior = int(input(\"Ingrese el rango inferior: \"))\n",
        "rango_superior = int(input(\"Ingrese el rango superior: \"))\n",
        "\n",
        "print(f\"Números primos en el rango [{rango_inferior}, {rango_superior}]:\")\n",
        "for num in range(rango_inferior, rango_superior + 1):\n",
        "    if es_primo(num):\n",
        "        print(num, end=\" \")\n"
      ],
      "metadata": {
        "colab": {
          "base_uri": "https://localhost:8080/"
        },
        "id": "KLAh939uIz1x",
        "outputId": "adcb99d4-0466-4335-8ee1-ad3373a78356"
      },
      "execution_count": null,
      "outputs": [
        {
          "output_type": "stream",
          "name": "stdout",
          "text": [
            "Ingrese el rango inferior: 7\n",
            "Ingrese el rango superior: 35\n",
            "Números primos en el rango [7, 35]:\n",
            "7 11 13 17 19 23 29 31 "
          ]
        }
      ]
    },
    {
      "cell_type": "markdown",
      "source": [
        "**Ejercicio 6:**\n",
        "Calculadora básica utilizando funciones"
      ],
      "metadata": {
        "id": "5FtViAKeIwKj"
      }
    },
    {
      "cell_type": "code",
      "source": [
        "def suma(a, b):\n",
        "    return a + b\n",
        "\n",
        "def resta(a, b):\n",
        "    return a - b\n",
        "\n",
        "def multiplicacion(a, b):\n",
        "    return a * b\n",
        "\n",
        "def division(a, b):\n",
        "    if b != 0:\n",
        "        return a / b\n",
        "    else:\n",
        "        return \"Error: División por cero.\"\n",
        "\n",
        "num1 = float(input(\"Ingrese el primer número: \"))\n",
        "num2 = float(input(\"Ingrese el segundo número: \"))\n",
        "\n",
        "print(f\"Suma: {suma(num1, num2)}\")\n",
        "print(f\"Resta: {resta(num1, num2)}\")\n",
        "print(f\"Multiplicación: {multiplicacion(num1, num2)}\")\n",
        "print(f\"División: {division(num1, num2)}\")\n"
      ],
      "metadata": {
        "colab": {
          "base_uri": "https://localhost:8080/"
        },
        "id": "4zrBRuzFIy6t",
        "outputId": "864f3c19-a537-4f68-8eeb-6e3739b4ae4f"
      },
      "execution_count": null,
      "outputs": [
        {
          "output_type": "stream",
          "name": "stdout",
          "text": [
            "Ingrese el primer número: 20\n",
            "Ingrese el segundo número: 2\n",
            "Suma: 22.0\n",
            "Resta: 18.0\n",
            "Multiplicación: 40.0\n",
            "División: 10.0\n"
          ]
        }
      ]
    }
  ]
}